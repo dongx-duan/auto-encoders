{
 "cells": [
  {
   "cell_type": "code",
   "execution_count": 1,
   "metadata": {
    "collapsed": false
   },
   "outputs": [],
   "source": [
    "import tensorflow as tf\n",
    "import numpy as np\n",
    "from tensorflow.contrib.bayesflow import stochastic_tensor, stochastic_graph\n",
    "from tensorflow.contrib.distributions import Normal"
   ]
  },
  {
   "cell_type": "code",
   "execution_count": 2,
   "metadata": {
    "collapsed": true
   },
   "outputs": [],
   "source": [
    "from tensorflow.contrib.learn.python.learn.datasets.mnist import read_data_sets"
   ]
  },
  {
   "cell_type": "code",
   "execution_count": 3,
   "metadata": {
    "collapsed": false
   },
   "outputs": [
    {
     "name": "stdout",
     "output_type": "stream",
     "text": [
      "Extracting /home/hadoop/data/mnist/train-images-idx3-ubyte.gz\n",
      "Extracting /home/hadoop/data/mnist/train-labels-idx1-ubyte.gz\n",
      "Extracting /home/hadoop/data/mnist/t10k-images-idx3-ubyte.gz\n",
      "Extracting /home/hadoop/data/mnist/t10k-labels-idx1-ubyte.gz\n"
     ]
    }
   ],
   "source": [
    "mnist = read_data_sets('/home/hadoop/data/mnist', one_hot=True)"
   ]
  },
  {
   "cell_type": "code",
   "execution_count": 4,
   "metadata": {
    "collapsed": false
   },
   "outputs": [],
   "source": [
    "class DenoisedAutoEncoder:\n",
    "    def __init__(self, input_size, hidden_size, batch_size):\n",
    "        self.input_size = input_size\n",
    "        self.hidden_size = hidden_size\n",
    "        self.batch_size = batch_size\n",
    "        \n",
    "        x = tf.placeholder(tf.float32, [batch_size, input_size])\n",
    "        # stochastic \n",
    "        st = stochastic_graph.stochastic_tensor.StochasticTensor(\n",
    "            Normal, mu=tf.zeros([batch_size, input_size]), sigma=tf.ones([batch_size, input_size])\n",
    "        )\n",
    "        x_noised = x + tf.convert_to_tensor(st, dtype=tf.float32)\n",
    "        \n",
    "        w = tf.Variable(tf.truncated_normal([input_size, hidden_size], 0, 0.1))\n",
    "        hb = tf.Variable(tf.zeros([hidden_size]))\n",
    "        y = tf.nn.sigmoid(tf.matmul(x_noised, w) + hb)\n",
    "        \n",
    "        vb = tf.Variable(tf.zeros([input_size]))\n",
    "        z = tf.nn.sigmoid(tf.matmul(y, tf.transpose(w)) + vb)\n",
    "        \n",
    "        self.input = x\n",
    "        self.z = z\n",
    "        self.loss = -tf.reduce_mean(x * tf.log(z) + (1-x) * tf.log(1-z))\n",
    "        self.train_op = tf.train.AdamOptimizer(0.005).minimize(self.loss)    "
   ]
  },
  {
   "cell_type": "code",
   "execution_count": 5,
   "metadata": {
    "collapsed": false
   },
   "outputs": [
    {
     "name": "stdout",
     "output_type": "stream",
     "text": [
      "batch  100 0.215142\n",
      "batch  200 0.195169\n",
      "batch  300 0.185731\n",
      "batch  400 0.182689\n",
      "batch  500 0.178185\n",
      "batch  600 0.175879\n",
      "batch  700 0.171048\n",
      "batch  800 0.172986\n",
      "batch  900 0.171686\n",
      "batch  1000 0.168107\n"
     ]
    }
   ],
   "source": [
    "batch_size = 512\n",
    "\n",
    "with tf.Session() as sess:\n",
    "    model = DenoisedAutoEncoder(784, 100, batch_size)\n",
    "    sess.run(tf.initialize_all_variables())\n",
    "    for i in range(1, 1001):\n",
    "        _x, _y = mnist.train.next_batch(batch_size)\n",
    "        _loss, _ = sess.run([model.loss, model.train_op], feed_dict={\n",
    "                model.input : _x\n",
    "            })\n",
    "        if i % 100 == 0:\n",
    "            print('batch ', i, _loss)"
   ]
  }
 ],
 "metadata": {
  "kernelspec": {
   "display_name": "Python 3",
   "language": "python",
   "name": "python3"
  },
  "language_info": {
   "codemirror_mode": {
    "name": "ipython",
    "version": 3
   },
   "file_extension": ".py",
   "mimetype": "text/x-python",
   "name": "python",
   "nbconvert_exporter": "python",
   "pygments_lexer": "ipython3",
   "version": "3.5.2"
  }
 },
 "nbformat": 4,
 "nbformat_minor": 0
}
